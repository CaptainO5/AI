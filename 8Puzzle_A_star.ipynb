{
  "nbformat": 4,
  "nbformat_minor": 0,
  "metadata": {
    "colab": {
      "name": "8Puzzle_A_star.ipynb",
      "provenance": [],
      "collapsed_sections": [],
      "authorship_tag": "ABX9TyM5k8/US3sZlZ0qVb0cg7e8"
    },
    "kernelspec": {
      "name": "python3",
      "display_name": "Python 3"
    }
  },
  "cells": [
    {
      "cell_type": "code",
      "metadata": {
        "id": "vQUaaObJOKBD",
        "colab_type": "code",
        "colab": {}
      },
      "source": [
        "import numpy as np\n",
        "import heapq as hq\n",
        "from itertools import count"
      ],
      "execution_count": 0,
      "outputs": []
    },
    {
      "cell_type": "markdown",
      "metadata": {
        "id": "WTeH4k57tWdf",
        "colab_type": "text"
      },
      "source": [
        "Every Node object represent a node on the search tree.\n",
        "\n",
        "It stores\n",
        "1.   The state: position of all the tiles\n",
        "2.   A reference to the parent node\n",
        "3.   g: cost of reaching the node (considering cost of each edge in the tree as 1)\n",
        "4.   a: represents the action applied on parent node to reach this node\n",
        "\n",
        "and has a funcitons:\n",
        "* expand(): \n",
        "    * Moves the position of the blank and returns an array (a list) of Nodes obtained\n",
        "    * Does not consist parent state done by checking 'Node.a' values \n",
        "\n",
        "\n"
      ]
    },
    {
      "cell_type": "code",
      "metadata": {
        "id": "BSQuThdXINjr",
        "colab_type": "code",
        "colab": {}
      },
      "source": [
        "class Node:\n",
        "  def __init__(self, state, parent, cost, action):\n",
        "    self.state = state\n",
        "    self.parent = parent\n",
        "    self.g = cost\n",
        "    self.a = action # Action applied to reach the state L, R, T or D\n",
        "\n",
        "  # Heuristic: sum of manhattan distances of each tile.. blank included\n",
        "  def h(self, goal):\n",
        "    sum = 0\n",
        "    for i in range(3):\n",
        "      for j in range(3):\n",
        "        m, n = np.where(goal == self.state[i][j]) # np.where(a == b) returns the array of positions in the array 'a', where the elements are == b\n",
        "        m, n = int(m), int(n)\n",
        "        sum += abs(i - m) + abs(j - n)\n",
        "    return sum\n",
        "\n",
        "  def expand(self):\n",
        "    i, j = np.where(self.state == 0)\n",
        "    i, j = int(i), int(j) # Current position of the blank -> {0}\n",
        "    children = []\n",
        "\n",
        "    # Move the blank one step at a time\n",
        "    if self.a != 'D' and i - 1 >= 0:\n",
        "        s = self.state.copy()\n",
        "        s[i][j] = s[i - 1][j]\n",
        "        s[i - 1][j] = 0\n",
        "        children.append(Node(s, self, self.g + 1, 'T'))\n",
        "\n",
        "    if self.a != 'R' and j - 1 >= 0:\n",
        "        s = self.state.copy()\n",
        "        s[i][j] = s[i][j - 1]\n",
        "        s[i][j - 1] = 0\n",
        "        children.append(Node(s, self, self.g + 1, 'L'))\n",
        "    \n",
        "    if self.a != 'L' and j + 1 <= 2:\n",
        "        s = self.state.copy()\n",
        "        s[i][j] = s[i][j + 1]\n",
        "        s[i][j + 1] = 0\n",
        "        children.append(Node(s, self, self.g + 1, 'R'))\n",
        "\n",
        "    if self.a != 'T' and i + 1 <= 2:\n",
        "        s = self.state.copy()\n",
        "        s[i][j] = s[i + 1][j]\n",
        "        s[i + 1][j] = 0\n",
        "        children.append(Node(s, self, self.g + 1, 'D'))\n",
        "    return children"
      ],
      "execution_count": 0,
      "outputs": []
    },
    {
      "cell_type": "markdown",
      "metadata": {
        "id": "DbXgDy8nsOS1",
        "colab_type": "text"
      },
      "source": [
        "in_closed and in_open funcitons checks if the given state is in closed or open list\n",
        "\n",
        "If is in the open list, updates the value in open list with least f-value node and returns True"
      ]
    },
    {
      "cell_type": "code",
      "metadata": {
        "id": "8UNatV9maslF",
        "colab_type": "code",
        "colab": {}
      },
      "source": [
        "def in_closed(s, closed):\n",
        "  for N in closed:\n",
        "    if np.allclose(s, N):\n",
        "      # print(f\"found \\n{child.state} in closedSet\") # Watchhh\n",
        "      return True\n",
        "  return False\n",
        "\n",
        "def in_open(s, openSet, f):\n",
        "  for N in openSet:\n",
        "        if np.allclose(s, N[2].state) and f < N[0]:\n",
        "          openSet.remove(N)\n",
        "          openSet.append((f, N[1], N[2]))\n",
        "          hq.heapify(openSet)\n",
        "          # print(\"openSet has changed\") # Watchhh\n",
        "          return True\n",
        "  return False"
      ],
      "execution_count": 0,
      "outputs": []
    },
    {
      "cell_type": "markdown",
      "metadata": {
        "id": "muhLIIe3sovH",
        "colab_type": "text"
      },
      "source": [
        "**A***\n",
        "\n",
        "Used a *heap* to store the Nodes, the data structure is a priority queue"
      ]
    },
    {
      "cell_type": "code",
      "metadata": {
        "id": "T6JrJ0y9JK9I",
        "colab_type": "code",
        "colab": {}
      },
      "source": [
        "def A_star(start, goal):\n",
        "  openSet = []\n",
        "  closed = []\n",
        "  unique = count() # Not a very important count..\n",
        "\n",
        "  f = start.h(goal)\n",
        "  hq.heappush(openSet, (f, -1, start))\n",
        "  while openSet:\n",
        "    f_current, t, current = hq.heappop(openSet) # Node with Least f-value\n",
        "\n",
        "    if np.allclose(goal, current.state): # np.allclose checks if both the arrays are identical\n",
        "      print(\"Solution found\")\n",
        "      return current\n",
        "\n",
        "    for child in current.expand():\n",
        "      f_child = child.g + child.h(goal)\n",
        "\n",
        "      # Check if in closed list or open list\n",
        "      if not in_closed(child.state, closed) and not in_open(child.state, openSet, f_child):\n",
        "        # Store Nodes with priority based on the f-value, 'u' is an unique integer to break ties\n",
        "        hq.heappush(openSet, (f_child, next(unique), child))   \n",
        "\n",
        "    closed.append(current.state)\n",
        "\n",
        "  print(\"Solution not found\")"
      ],
      "execution_count": 0,
      "outputs": []
    },
    {
      "cell_type": "code",
      "metadata": {
        "id": "Jt7lz4nxOraX",
        "colab_type": "code",
        "colab": {}
      },
      "source": [
        "def print_soln(sol):\n",
        "  if sol.parent == None:\n",
        "    print(sol.state, '\\n')\n",
        "    return\n",
        "  print_soln(sol.parent)\n",
        "  print(sol.state, \"\\n\")"
      ],
      "execution_count": 0,
      "outputs": []
    },
    {
      "cell_type": "code",
      "metadata": {
        "id": "Bm8S_M9kNnih",
        "colab_type": "code",
        "colab": {
          "base_uri": "https://localhost:8080/",
          "height": 1000
        },
        "outputId": "db22bc11-34c1-442c-aa3f-617f089d1075"
      },
      "source": [
        "puzzle = np.asarray([[7, 2, 4], [5, 0, 6], [8, 3, 1]])\n",
        "\n",
        "goal = list(np.arange(1, 9))\n",
        "goal.append(0)\n",
        "goal = np.asarray(goal).reshape(3, 3)\n",
        "\n",
        "start = Node(puzzle, None, 0, '')\n",
        "\n",
        "print_soln(A_star(start, goal))"
      ],
      "execution_count": 19,
      "outputs": [
        {
          "output_type": "stream",
          "text": [
            "Solution found\n",
            "[[7 2 4]\n",
            " [5 0 6]\n",
            " [8 3 1]] \n",
            "\n",
            "[[7 2 4]\n",
            " [5 3 6]\n",
            " [8 0 1]] \n",
            "\n",
            "[[7 2 4]\n",
            " [5 3 6]\n",
            " [8 1 0]] \n",
            "\n",
            "[[7 2 4]\n",
            " [5 3 0]\n",
            " [8 1 6]] \n",
            "\n",
            "[[7 2 4]\n",
            " [5 0 3]\n",
            " [8 1 6]] \n",
            "\n",
            "[[7 2 4]\n",
            " [0 5 3]\n",
            " [8 1 6]] \n",
            "\n",
            "[[0 2 4]\n",
            " [7 5 3]\n",
            " [8 1 6]] \n",
            "\n",
            "[[2 0 4]\n",
            " [7 5 3]\n",
            " [8 1 6]] \n",
            "\n",
            "[[2 4 0]\n",
            " [7 5 3]\n",
            " [8 1 6]] \n",
            "\n",
            "[[2 4 3]\n",
            " [7 5 0]\n",
            " [8 1 6]] \n",
            "\n",
            "[[2 4 3]\n",
            " [7 0 5]\n",
            " [8 1 6]] \n",
            "\n",
            "[[2 4 3]\n",
            " [7 1 5]\n",
            " [8 0 6]] \n",
            "\n",
            "[[2 4 3]\n",
            " [7 1 5]\n",
            " [0 8 6]] \n",
            "\n",
            "[[2 4 3]\n",
            " [0 1 5]\n",
            " [7 8 6]] \n",
            "\n",
            "[[2 4 3]\n",
            " [1 0 5]\n",
            " [7 8 6]] \n",
            "\n",
            "[[2 0 3]\n",
            " [1 4 5]\n",
            " [7 8 6]] \n",
            "\n",
            "[[0 2 3]\n",
            " [1 4 5]\n",
            " [7 8 6]] \n",
            "\n",
            "[[1 2 3]\n",
            " [0 4 5]\n",
            " [7 8 6]] \n",
            "\n",
            "[[1 2 3]\n",
            " [4 0 5]\n",
            " [7 8 6]] \n",
            "\n",
            "[[1 2 3]\n",
            " [4 5 0]\n",
            " [7 8 6]] \n",
            "\n",
            "[[1 2 3]\n",
            " [4 5 6]\n",
            " [7 8 0]] \n",
            "\n"
          ],
          "name": "stdout"
        }
      ]
    }
  ]
}