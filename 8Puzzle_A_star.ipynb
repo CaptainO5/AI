{
  "nbformat": 4,
  "nbformat_minor": 0,
  "metadata": {
    "colab": {
      "name": "8Puzzle_A_star.ipynb",
      "provenance": [],
      "collapsed_sections": [],
      "authorship_tag": "ABX9TyN4tvGsbX31EIupgigC/6lX",
      "include_colab_link": true
    },
    "kernelspec": {
      "name": "python3",
      "display_name": "Python 3"
    }
  },
  "cells": [
    {
      "cell_type": "markdown",
      "metadata": {
        "id": "view-in-github",
        "colab_type": "text"
      },
      "source": [
        "<a href=\"https://colab.research.google.com/github/CaptainO5/AI/blob/master/8Puzzle_A_star.ipynb\" target=\"_parent\"><img src=\"https://colab.research.google.com/assets/colab-badge.svg\" alt=\"Open In Colab\"/></a>"
      ]
    },
    {
      "cell_type": "code",
      "metadata": {
        "id": "vQUaaObJOKBD",
        "colab_type": "code",
        "colab": {}
      },
      "source": [
        "import numpy as np\n",
        "import heapq as hq\n",
        "from itertools import count"
      ],
      "execution_count": 0,
      "outputs": []
    },
    {
      "cell_type": "code",
      "metadata": {
        "id": "BSQuThdXINjr",
        "colab_type": "code",
        "colab": {}
      },
      "source": [
        "class Node:\n",
        "  def __init__(self, state, parent, cost, action):\n",
        "    self.state = state\n",
        "    self.parent = parent\n",
        "    self.g = cost\n",
        "    self.a = action # Action applied to reach the state L, R, T or D\n",
        "\n",
        "  # Heuristic: sum of manhattan distances of each tile.. blank included\n",
        "  def h(self, goal):\n",
        "    sum = 0\n",
        "    for i in range(3):\n",
        "      for j in range(3):\n",
        "        m, n = np.where(goal == self.state[i][j])\n",
        "        m, n = int(m), int(n)\n",
        "        sum += abs(i - m) + abs(j - n)\n",
        "    return sum\n",
        "\n",
        "  def expand(self):\n",
        "    i, j = np.where(self.state == 0)\n",
        "    i, j = int(i), int(j) # Current position of the blank -> {0}\n",
        "    children = []\n",
        "\n",
        "    # Move the blank one step at a time\n",
        "    if self.a != 'D' and i - 1 >= 0:\n",
        "        s = self.state.copy()\n",
        "        s[i][j] = s[i - 1][j]\n",
        "        s[i - 1][j] = 0\n",
        "        children.append(Node(s, self, self.g + 1, 'T'))\n",
        "\n",
        "    if self.a != 'R' and j - 1 >= 0:\n",
        "        s = self.state.copy()\n",
        "        s[i][j] = s[i][j - 1]\n",
        "        s[i][j - 1] = 0\n",
        "        children.append(Node(s, self, self.g + 1, 'L'))\n",
        "    \n",
        "    if self.a != 'L' and j + 1 <= 2:\n",
        "        s = self.state.copy()\n",
        "        s[i][j] = s[i][j + 1]\n",
        "        s[i][j + 1] = 0\n",
        "        children.append(Node(s, self, self.g + 1, 'R'))\n",
        "\n",
        "    if self.a != 'T' and i + 1 <= 2:\n",
        "        s = self.state.copy()\n",
        "        s[i][j] = s[i + 1][j]\n",
        "        s[i + 1][j] = 0\n",
        "        children.append(Node(s, self, self.g + 1, 'D'))\n",
        "    return children"
      ],
      "execution_count": 0,
      "outputs": []
    },
    {
      "cell_type": "code",
      "metadata": {
        "id": "T6JrJ0y9JK9I",
        "colab_type": "code",
        "colab": {}
      },
      "source": [
        "def A_star(start, goal):\n",
        "  openSet = []\n",
        "  closed = []\n",
        "  unique = count()\n",
        "\n",
        "  f = start.h(goal)\n",
        "  hq.heappush(openSet, (f, -1, start))\n",
        "  while openSet:\n",
        "    f_current, t, current = hq.heappop(openSet)\n",
        "    if np.allclose(goal, current.state):\n",
        "      print(\"Solution found\")\n",
        "      return current\n",
        "    for child in current.expand():\n",
        "      f_child = child.g + child.h(goal)\n",
        "\n",
        "      # Check if in closed list\n",
        "      for N in closed:\n",
        "        if np.allclose(child.state, N):\n",
        "          continue\n",
        "      \n",
        "      # Check if in open list\n",
        "      for N in openSet:\n",
        "        if np.allclose(child.state, N[2].state) and f_child < N[0]:\n",
        "          hq.heapreplace(openSet, (f_child, N[1], child))\n",
        "          continue\n",
        "      \n",
        "      hq.heappush(openSet, (f_child, next(unique), child))\n",
        "    closed.append(current.state)\n",
        "\n",
        "  print(\"Solution not found\")"
      ],
      "execution_count": 0,
      "outputs": []
    },
    {
      "cell_type": "code",
      "metadata": {
        "id": "Jt7lz4nxOraX",
        "colab_type": "code",
        "colab": {}
      },
      "source": [
        "def print_soln(sol):\n",
        "  if sol.parent == None:\n",
        "    return\n",
        "  print_soln(sol.parent)\n",
        "  print(sol.state, \"\\n\")"
      ],
      "execution_count": 0,
      "outputs": []
    },
    {
      "cell_type": "code",
      "metadata": {
        "id": "Bm8S_M9kNnih",
        "colab_type": "code",
        "outputId": "810e997e-a456-4ac6-faa3-1116f10b67b6",
        "colab": {
          "base_uri": "https://localhost:8080/",
          "height": 1000
        }
      },
      "source": [
        "puzzle = np.asarray([[7, 2, 4], [5, 0, 6], [8, 3, 1]])\n",
        "\n",
        "goal = list(np.arange(1, 9))\n",
        "goal.append(0)\n",
        "goal = np.asarray(goal).reshape(3, 3)\n",
        "\n",
        "start = Node(puzzle, None, 0, '')\n",
        "\n",
        "print_soln(A_star(start, goal))"
      ],
      "execution_count": 28,
      "outputs": [
        {
          "output_type": "stream",
          "text": [
            "Solution found\n",
            "[[7 2 4]\n",
            " [5 3 6]\n",
            " [8 0 1]] \n",
            "\n",
            "[[7 2 4]\n",
            " [5 3 6]\n",
            " [8 1 0]] \n",
            "\n",
            "[[7 2 4]\n",
            " [5 3 0]\n",
            " [8 1 6]] \n",
            "\n",
            "[[7 2 4]\n",
            " [5 0 3]\n",
            " [8 1 6]] \n",
            "\n",
            "[[7 2 4]\n",
            " [0 5 3]\n",
            " [8 1 6]] \n",
            "\n",
            "[[0 2 4]\n",
            " [7 5 3]\n",
            " [8 1 6]] \n",
            "\n",
            "[[2 0 4]\n",
            " [7 5 3]\n",
            " [8 1 6]] \n",
            "\n",
            "[[2 4 0]\n",
            " [7 5 3]\n",
            " [8 1 6]] \n",
            "\n",
            "[[2 4 3]\n",
            " [7 5 0]\n",
            " [8 1 6]] \n",
            "\n",
            "[[2 4 3]\n",
            " [7 0 5]\n",
            " [8 1 6]] \n",
            "\n",
            "[[2 4 3]\n",
            " [7 1 5]\n",
            " [8 0 6]] \n",
            "\n",
            "[[2 4 3]\n",
            " [7 1 5]\n",
            " [0 8 6]] \n",
            "\n",
            "[[2 4 3]\n",
            " [0 1 5]\n",
            " [7 8 6]] \n",
            "\n",
            "[[2 4 3]\n",
            " [1 0 5]\n",
            " [7 8 6]] \n",
            "\n",
            "[[2 0 3]\n",
            " [1 4 5]\n",
            " [7 8 6]] \n",
            "\n",
            "[[0 2 3]\n",
            " [1 4 5]\n",
            " [7 8 6]] \n",
            "\n",
            "[[1 2 3]\n",
            " [0 4 5]\n",
            " [7 8 6]] \n",
            "\n",
            "[[1 2 3]\n",
            " [4 0 5]\n",
            " [7 8 6]] \n",
            "\n",
            "[[1 2 3]\n",
            " [4 5 0]\n",
            " [7 8 6]] \n",
            "\n",
            "[[1 2 3]\n",
            " [4 5 6]\n",
            " [7 8 0]] \n",
            "\n"
          ],
          "name": "stdout"
        }
      ]
    }
  ]
}