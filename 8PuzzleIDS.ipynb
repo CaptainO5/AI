{
  "nbformat": 4,
  "nbformat_minor": 0,
  "metadata": {
    "colab": {
      "name": "8PuzzleIDS.ipynb",
      "provenance": [],
      "collapsed_sections": [],
      "authorship_tag": "ABX9TyPSKSDmKwdTT4mrIofpQGAX"
    },
    "kernelspec": {
      "name": "python3",
      "display_name": "Python 3"
    }
  },
  "cells": [
    {
      "cell_type": "code",
      "metadata": {
        "id": "vVMr53jQZghX",
        "colab_type": "code",
        "colab": {}
      },
      "source": [
        "import numpy as np"
      ],
      "execution_count": 0,
      "outputs": []
    },
    {
      "cell_type": "markdown",
      "metadata": {
        "id": "SpIskp0GqG9_",
        "colab_type": "text"
      },
      "source": [
        "Every Node object represent a node on the search tree.\n",
        "\n",
        "It stores\n",
        "1.   The state: position of all the tiles\n",
        "2.   A reference to the parent node\n",
        "3.   g: cost of reaching the node (considering cost of each edge in the tree as 1)\n",
        "4.   a: represents the action applied on parent node to reach this node\n",
        "\n",
        "and has a funcitons:\n",
        "* expand(): \n",
        "    * Moves the position of the blank and returns an array (a list) of Nodes obtained\n",
        "    * Does not consist parent state done by checking 'Node.a' values \n",
        "\n",
        "\n"
      ]
    },
    {
      "cell_type": "code",
      "metadata": {
        "id": "KsRDwxpCbrHp",
        "colab_type": "code",
        "colab": {}
      },
      "source": [
        "class Node:\n",
        "  def __init__(self, state, parent, cost, action):\n",
        "    self.currentState = state\n",
        "    self.parent = parent\n",
        "    self.g = cost\n",
        "    self.a = action # Action applied to reach the state L, R, T or D\n",
        "\n",
        "  def expand(self):\n",
        "    i, j = np.where(self.currentState == 0)\n",
        "    i, j = int(i), int(j) # Current position of the blank -> {0}\n",
        "    children = []\n",
        "\n",
        "    # Move the blank one step at a time\n",
        "    # Actions: D, R, L and T denote the movement of 0 in 4 directions\n",
        "    if self.a != 'D' and i - 1 >= 0:\n",
        "        s = self.currentState.copy()\n",
        "        s[i][j] = s[i - 1][j]\n",
        "        s[i - 1][j] = 0\n",
        "        children.append(Node(s, self, self.g + 1, 'T'))\n",
        "\n",
        "    if self.a != 'R' and j - 1 >= 0:\n",
        "        s = self.currentState.copy()\n",
        "        s[i][j] = s[i][j - 1]\n",
        "        s[i][j - 1] = 0\n",
        "        children.append(Node(s, self, self.g + 1, 'L'))\n",
        "    \n",
        "    if self.a != 'L' and j + 1 <= 2:\n",
        "        s = self.currentState.copy()\n",
        "        s[i][j] = s[i][j + 1]\n",
        "        s[i][j + 1] = 0\n",
        "        children.append(Node(s, self, self.g + 1, 'R'))\n",
        "\n",
        "    if self.a != 'T' and i + 1 <= 2:\n",
        "        s = self.currentState.copy()\n",
        "        s[i][j] = s[i + 1][j]\n",
        "        s[i + 1][j] = 0\n",
        "        children.append(Node(s, self, self.g + 1, 'D'))\n",
        "    return children"
      ],
      "execution_count": 0,
      "outputs": []
    },
    {
      "cell_type": "markdown",
      "metadata": {
        "id": "527BT2nMrNWb",
        "colab_type": "text"
      },
      "source": [
        "**IDS**\n",
        "\n",
        "Calls a funciton recursive DFS infinite times until solution is found\n",
        "\n",
        "Returns the goal node"
      ]
    },
    {
      "cell_type": "code",
      "metadata": {
        "id": "3DOwfUhAnico",
        "colab_type": "code",
        "colab": {}
      },
      "source": [
        "def rec_DLS(node, limit, goal):\n",
        "  # Check if the current node is goal\n",
        "  if np.allclose(goal, node.currentState): \n",
        "    print(f\"\\nSolution found, cost: {node.g} \\n\")\n",
        "    return node\n",
        "  if limit == 0:\n",
        "    return 'cutoff'\n",
        "\n",
        "  c_o = False\n",
        "  for child in node.expand():\n",
        "    res = rec_DLS(child, limit - 1, goal)\n",
        "    if res == 'cutoff':\n",
        "      c_o = True \n",
        "    elif res != 'failure':\n",
        "      return res\n",
        "  return 'cutoff' if c_o else 'failure'\n",
        "    \n",
        "def IDS(startState, goal):\n",
        "  l = 0\n",
        "  while True:\n",
        "    print(f\"Depth: {l}\")\n",
        "    res = rec_DLS(startState, l, goal)\n",
        "    if res != 'failure':\n",
        "      if res != 'cutoff':\n",
        "        return res\n",
        "      else: \n",
        "        print(f\"Result: {res}\")\n",
        "        l += 1\n",
        "    else:\n",
        "      print(\"Solution cannot be found\")\n",
        "      return \n"
      ],
      "execution_count": 0,
      "outputs": []
    },
    {
      "cell_type": "markdown",
      "metadata": {
        "id": "PU84HbkeFZMT",
        "colab_type": "text"
      },
      "source": [
        "Recursive function to print the path to solution"
      ]
    },
    {
      "cell_type": "code",
      "metadata": {
        "id": "QqZ6uESQGXBd",
        "colab_type": "code",
        "colab": {}
      },
      "source": [
        "def print_soln(sol):\n",
        "  if sol.parent == None:\n",
        "    print(sol.currentState, '\\n')\n",
        "    return\n",
        "  print_soln(sol.parent)\n",
        "  print(sol.currentState, \"\\n\")"
      ],
      "execution_count": 0,
      "outputs": []
    },
    {
      "cell_type": "markdown",
      "metadata": {
        "id": "nLuHn4EZsCEP",
        "colab_type": "text"
      },
      "source": [
        "All the states are represented with a 3x3 array\n",
        "\n",
        "0 represents the blank tile\n",
        "\n",
        "Tile movements are implimented by swapping 0 with adjacent elements"
      ]
    },
    {
      "cell_type": "code",
      "metadata": {
        "id": "qvzYiP0fpNGI",
        "colab_type": "code",
        "outputId": "bc6f80b4-61b0-4fc5-f5da-6fb6a1262543",
        "colab": {
          "base_uri": "https://localhost:8080/",
          "height": 1000
        }
      },
      "source": [
        "puzzle = np.asarray([[7, 2, 4], [5, 0, 6], [8, 3, 1]]) #An example \n",
        "\n",
        "goal = list(np.arange(1, 9))\n",
        "goal.append(0)\n",
        "goal = np.asarray(goal).reshape(3, 3)\n",
        "\n",
        "print_soln(IDS(Node(puzzle, None, 0, \"\"), goal))"
      ],
      "execution_count": 6,
      "outputs": [
        {
          "output_type": "stream",
          "text": [
            "Depth: 0\n",
            "Result: cutoff\n",
            "Depth: 1\n",
            "Result: cutoff\n",
            "Depth: 2\n",
            "Result: cutoff\n",
            "Depth: 3\n",
            "Result: cutoff\n",
            "Depth: 4\n",
            "Result: cutoff\n",
            "Depth: 5\n",
            "Result: cutoff\n",
            "Depth: 6\n",
            "Result: cutoff\n",
            "Depth: 7\n",
            "Result: cutoff\n",
            "Depth: 8\n",
            "Result: cutoff\n",
            "Depth: 9\n",
            "Result: cutoff\n",
            "Depth: 10\n",
            "Result: cutoff\n",
            "Depth: 11\n",
            "Result: cutoff\n",
            "Depth: 12\n",
            "Result: cutoff\n",
            "Depth: 13\n",
            "Result: cutoff\n",
            "Depth: 14\n",
            "Result: cutoff\n",
            "Depth: 15\n",
            "Result: cutoff\n",
            "Depth: 16\n",
            "Result: cutoff\n",
            "Depth: 17\n",
            "Result: cutoff\n",
            "Depth: 18\n",
            "Result: cutoff\n",
            "Depth: 19\n",
            "Result: cutoff\n",
            "Depth: 20\n",
            "\n",
            "Solution found, cost: 20 \n",
            "\n",
            "[[7 2 4]\n",
            " [5 0 6]\n",
            " [8 3 1]] \n",
            "\n",
            "[[7 2 4]\n",
            " [5 3 6]\n",
            " [8 0 1]] \n",
            "\n",
            "[[7 2 4]\n",
            " [5 3 6]\n",
            " [8 1 0]] \n",
            "\n",
            "[[7 2 4]\n",
            " [5 3 0]\n",
            " [8 1 6]] \n",
            "\n",
            "[[7 2 4]\n",
            " [5 0 3]\n",
            " [8 1 6]] \n",
            "\n",
            "[[7 2 4]\n",
            " [0 5 3]\n",
            " [8 1 6]] \n",
            "\n",
            "[[0 2 4]\n",
            " [7 5 3]\n",
            " [8 1 6]] \n",
            "\n",
            "[[2 0 4]\n",
            " [7 5 3]\n",
            " [8 1 6]] \n",
            "\n",
            "[[2 4 0]\n",
            " [7 5 3]\n",
            " [8 1 6]] \n",
            "\n",
            "[[2 4 3]\n",
            " [7 5 0]\n",
            " [8 1 6]] \n",
            "\n",
            "[[2 4 3]\n",
            " [7 0 5]\n",
            " [8 1 6]] \n",
            "\n",
            "[[2 4 3]\n",
            " [7 1 5]\n",
            " [8 0 6]] \n",
            "\n",
            "[[2 4 3]\n",
            " [7 1 5]\n",
            " [0 8 6]] \n",
            "\n",
            "[[2 4 3]\n",
            " [0 1 5]\n",
            " [7 8 6]] \n",
            "\n",
            "[[2 4 3]\n",
            " [1 0 5]\n",
            " [7 8 6]] \n",
            "\n",
            "[[2 0 3]\n",
            " [1 4 5]\n",
            " [7 8 6]] \n",
            "\n",
            "[[0 2 3]\n",
            " [1 4 5]\n",
            " [7 8 6]] \n",
            "\n",
            "[[1 2 3]\n",
            " [0 4 5]\n",
            " [7 8 6]] \n",
            "\n",
            "[[1 2 3]\n",
            " [4 0 5]\n",
            " [7 8 6]] \n",
            "\n",
            "[[1 2 3]\n",
            " [4 5 0]\n",
            " [7 8 6]] \n",
            "\n",
            "[[1 2 3]\n",
            " [4 5 6]\n",
            " [7 8 0]] \n",
            "\n"
          ],
          "name": "stdout"
        }
      ]
    }
  ]
}