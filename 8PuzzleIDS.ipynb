{
  "nbformat": 4,
  "nbformat_minor": 0,
  "metadata": {
    "colab": {
      "name": "8PuzzleIDS.ipynb",
      "provenance": [],
      "collapsed_sections": [],
      "authorship_tag": "ABX9TyMaYR7+4tgOCjFaw0AYsu+g",
      "include_colab_link": true
    },
    "kernelspec": {
      "name": "python3",
      "display_name": "Python 3"
    }
  },
  "cells": [
    {
      "cell_type": "markdown",
      "metadata": {
        "id": "view-in-github",
        "colab_type": "text"
      },
      "source": [
        "<a href=\"https://colab.research.google.com/github/CaptainO5/AI/blob/master/8PuzzleIDS.ipynb\" target=\"_parent\"><img src=\"https://colab.research.google.com/assets/colab-badge.svg\" alt=\"Open In Colab\"/></a>"
      ]
    },
    {
      "cell_type": "code",
      "metadata": {
        "id": "vVMr53jQZghX",
        "colab_type": "code",
        "colab": {}
      },
      "source": [
        "import numpy as np"
      ],
      "execution_count": 0,
      "outputs": []
    },
    {
      "cell_type": "code",
      "metadata": {
        "id": "KsRDwxpCbrHp",
        "colab_type": "code",
        "colab": {}
      },
      "source": [
        "class Node:\n",
        "  def __init__(self, state, parent, cost, action):\n",
        "    self.currentState = state\n",
        "    self.parent = parent\n",
        "    self.g = cost\n",
        "    self.a = action # Action applied to reach the state L, R, T or D\n",
        "\n",
        "  def expand(self):\n",
        "    i, j = np.where(self.currentState == 0)\n",
        "    i, j = int(i), int(j) # Current position of the blank -> {0}\n",
        "    children = []\n",
        "\n",
        "    # Move the blank one step at a time\n",
        "    if self.a != 'D' and i - 1 >= 0:\n",
        "        s = self.currentState.copy()\n",
        "        s[i][j] = s[i - 1][j]\n",
        "        s[i - 1][j] = 0\n",
        "        children.append(Node(s, self, self.g + 1, 'T'))\n",
        "\n",
        "    if self.a != 'R' and j - 1 >= 0:\n",
        "        s = self.currentState.copy()\n",
        "        s[i][j] = s[i][j - 1]\n",
        "        s[i][j - 1] = 0\n",
        "        children.append(Node(s, self, self.g + 1, 'L'))\n",
        "    \n",
        "    if self.a != 'L' and j + 1 <= 2:\n",
        "        s = self.currentState.copy()\n",
        "        s[i][j] = s[i][j + 1]\n",
        "        s[i][j + 1] = 0\n",
        "        children.append(Node(s, self, self.g + 1, 'R'))\n",
        "\n",
        "    if self.a != 'T' and i + 1 <= 2:\n",
        "        s = self.currentState.copy()\n",
        "        s[i][j] = s[i + 1][j]\n",
        "        s[i + 1][j] = 0\n",
        "        children.append(Node(s, self, self.g + 1, 'D'))\n",
        "    return children"
      ],
      "execution_count": 0,
      "outputs": []
    },
    {
      "cell_type": "code",
      "metadata": {
        "id": "3DOwfUhAnico",
        "colab_type": "code",
        "colab": {}
      },
      "source": [
        "def rec_DLS(node, limit, goal):\n",
        "  if np.allclose(goal, node.currentState):\n",
        "    print(f\"\\nSolution found, cost: {node.g} \\n\")\n",
        "    return node\n",
        "  if limit == 0:\n",
        "    return 'cutoff'\n",
        "\n",
        "  c_o = False\n",
        "  for child in node.expand():\n",
        "    res = rec_DLS(child, limit - 1, goal)\n",
        "    if res == 'cutoff':\n",
        "      c_o = True \n",
        "    elif res != 'failure':\n",
        "      # print(child.currentState, f\"depth: cost - {limit - 1}\")\n",
        "      return res\n",
        "  return 'cutoff' if c_o else 'failure'\n",
        "    \n",
        "def IDS(startState, goal):\n",
        "  l = 0\n",
        "  while True:\n",
        "    print(f\"Depth: {l}\")\n",
        "    res = rec_DLS(startState, l, goal)\n",
        "    if res != 'failure':\n",
        "      if res != 'cutoff':\n",
        "        # print(f\"Result: {res}\")\n",
        "        return res\n",
        "      else: \n",
        "        print(f\"Result: {res}\")\n",
        "        l += 1\n",
        "    else:\n",
        "      print(\"Solution cannot be found\")\n",
        "      return \n"
      ],
      "execution_count": 0,
      "outputs": []
    },
    {
      "cell_type": "markdown",
      "metadata": {
        "id": "PU84HbkeFZMT",
        "colab_type": "text"
      },
      "source": [
        "0 is considered as the blank.."
      ]
    },
    {
      "cell_type": "code",
      "metadata": {
        "id": "QqZ6uESQGXBd",
        "colab_type": "code",
        "colab": {}
      },
      "source": [
        "def print_soln(sol):\n",
        "  if sol.parent == None:\n",
        "    print(sol.currentState, '\\n')\n",
        "    return\n",
        "  print_soln(sol.parent)\n",
        "  print(sol.currentState, \"\\n\")"
      ],
      "execution_count": 0,
      "outputs": []
    },
    {
      "cell_type": "code",
      "metadata": {
        "id": "qvzYiP0fpNGI",
        "colab_type": "code",
        "outputId": "7eaf6873-0dcc-48a8-89e1-086f69e36a3f",
        "colab": {
          "base_uri": "https://localhost:8080/",
          "height": 763
        }
      },
      "source": [
        "# puzzle = np.arange(9).reshape(3, 3)\n",
        "# np.random.shuffle(puzzle) # For a random initial state\n",
        "\n",
        "puzzle = np.asarray([[2, 8, 3], [1, 6, 4], [7, 0, 5]]) #An example \n",
        "\n",
        "print(\"Initial State\\n\", puzzle)\n",
        "\n",
        "# goal = list(np.arange(1, 9))\n",
        "# goal.append(0)\n",
        "# goal = np.asarray(goal).reshape(3, 3)\n",
        "\n",
        "goal = np.asarray([[1, 2, 3], [8, 0, 4], [7, 6, 5]]) #An example\n",
        "\n",
        "print_soln(IDS(Node(puzzle, None, 0, \"\"), goal))"
      ],
      "execution_count": 34,
      "outputs": [
        {
          "output_type": "stream",
          "text": [
            "Initial State\n",
            " [[2 8 3]\n",
            " [1 6 4]\n",
            " [7 0 5]]\n",
            "Depth: 0\n",
            "Result: cutoff\n",
            "Depth: 1\n",
            "Result: cutoff\n",
            "Depth: 2\n",
            "Result: cutoff\n",
            "Depth: 3\n",
            "Result: cutoff\n",
            "Depth: 4\n",
            "Result: cutoff\n",
            "Depth: 5\n",
            "Solution found, cost: 5 \n",
            "\n",
            "[[2 8 3]\n",
            " [1 6 4]\n",
            " [7 0 5]] \n",
            "\n",
            "[[2 8 3]\n",
            " [1 0 4]\n",
            " [7 6 5]] \n",
            "\n",
            "[[2 0 3]\n",
            " [1 8 4]\n",
            " [7 6 5]] \n",
            "\n",
            "[[0 2 3]\n",
            " [1 8 4]\n",
            " [7 6 5]] \n",
            "\n",
            "[[1 2 3]\n",
            " [0 8 4]\n",
            " [7 6 5]] \n",
            "\n",
            "[[1 2 3]\n",
            " [8 0 4]\n",
            " [7 6 5]] \n",
            "\n"
          ],
          "name": "stdout"
        }
      ]
    }
  ]
}