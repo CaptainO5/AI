{
  "nbformat": 4,
  "nbformat_minor": 0,
  "metadata": {
    "colab": {
      "name": "8Puzzle_RBFS.ipynb",
      "provenance": [],
      "collapsed_sections": []
    },
    "kernelspec": {
      "name": "python3",
      "display_name": "Python 3"
    }
  },
  "cells": [
    {
      "cell_type": "code",
      "metadata": {
        "id": "sZ_M0Vdj2trk",
        "colab_type": "code",
        "colab": {}
      },
      "source": [
        "import numpy as np\n",
        "import heapq as hq\n",
        "from itertools import count"
      ],
      "execution_count": 0,
      "outputs": []
    },
    {
      "cell_type": "code",
      "metadata": {
        "id": "VIXvN6mrCwKR",
        "colab_type": "code",
        "colab": {}
      },
      "source": [
        "class Node:\n",
        "  def __init__(self, state, parent, cost, action):\n",
        "    self.state = state\n",
        "    self.parent = parent\n",
        "    self.g = cost\n",
        "    self.f = self.g\n",
        "    self.a = action # Action applied to reach the state L, R, T or D\n",
        "\n",
        "  # Heuristic: sum of manhattan distances of each tile.. blank included\n",
        "  def h(self, goal):\n",
        "    sum = 0\n",
        "    for i in range(3):\n",
        "      for j in range(3):\n",
        "        m, n = np.where(goal == self.state[i][j])\n",
        "        m, n = int(m), int(n)\n",
        "        sum += abs(i - m) + abs(j - n)\n",
        "    return sum\n",
        "\n",
        "  def expand(self):\n",
        "    i, j = np.where(self.state == 0)\n",
        "    i, j = int(i), int(j) # Current position of the blank -> {0}\n",
        "    children = []\n",
        "\n",
        "    # Move the blank one step at a time\n",
        "    if self.a != 'D' and i - 1 >= 0:\n",
        "        s = self.state.copy()\n",
        "        s[i][j] = s[i - 1][j]\n",
        "        s[i - 1][j] = 0\n",
        "        children.append(Node(s, self, self.g + 1, 'T'))\n",
        "\n",
        "    if self.a != 'R' and j - 1 >= 0:\n",
        "        s = self.state.copy()\n",
        "        s[i][j] = s[i][j - 1]\n",
        "        s[i][j - 1] = 0\n",
        "        children.append(Node(s, self, self.g + 1, 'L'))\n",
        "    \n",
        "    if self.a != 'L' and j + 1 <= 2:\n",
        "        s = self.state.copy()\n",
        "        s[i][j] = s[i][j + 1]\n",
        "        s[i][j + 1] = 0\n",
        "        children.append(Node(s, self, self.g + 1, 'R'))\n",
        "\n",
        "    if self.a != 'T' and i + 1 <= 2:\n",
        "        s = self.state.copy()\n",
        "        s[i][j] = s[i + 1][j]\n",
        "        s[i + 1][j] = 0\n",
        "        children.append(Node(s, self, self.g + 1, 'D'))\n",
        "    return children"
      ],
      "execution_count": 0,
      "outputs": []
    },
    {
      "cell_type": "code",
      "metadata": {
        "id": "HEIsd2AFhjRM",
        "colab_type": "code",
        "colab": {}
      },
      "source": [
        "def print_soln(sol):\n",
        "  if sol.parent == None:\n",
        "    print(sol.state, '\\n')\n",
        "    return\n",
        "  print_soln(sol.parent)\n",
        "  print(sol.state, \"\\n\")"
      ],
      "execution_count": 0,
      "outputs": []
    },
    {
      "cell_type": "code",
      "metadata": {
        "id": "aWfs4qg6CzGo",
        "colab_type": "code",
        "colab": {}
      },
      "source": [
        "def RBFS(node, goal, f_limit):\n",
        "  if np.allclose(goal, node.state):\n",
        "    print(\"Solution found\")\n",
        "    print_soln(node)\n",
        "    return (\"cost:\", node.f)\n",
        "  \n",
        "  scsrs = node.expand()\n",
        "  if len(scsrs) == 0:\n",
        "    return ('failure', float('inf'))\n",
        "  pq = []\n",
        "  u = count()\n",
        "\n",
        "  for s in scsrs:\n",
        "    s.f = max(s.h(goal) + s.g, node.f)\n",
        "    hq.heappush(pq, (s.f, next(u), s))\n",
        "  \n",
        "  while True:\n",
        "    f_best, u1, best = hq.heappop(pq)\n",
        "    if best.f > f_limit:\n",
        "      return ('failure', best.f)\n",
        "\n",
        "    try:\n",
        "      f_alt, u2, alt = hq.heappop(pq)\n",
        "      hq.heappush(pq, (f_alt, u2, alt))\n",
        "    except IndexError:\n",
        "      f_alt = f_limit\n",
        "      \n",
        "    result, best.f = RBFS(best, goal, min(f_limit, f_alt))\n",
        "    hq.heappush(pq, (best.f, u1, best))\n",
        "    # print(result, best.f)\n",
        "    if result != 'failure':\n",
        "      return (result, best.f)"
      ],
      "execution_count": 0,
      "outputs": []
    },
    {
      "cell_type": "code",
      "metadata": {
        "id": "wJTG94JDO5jY",
        "colab_type": "code",
        "colab": {
          "base_uri": "https://localhost:8080/",
          "height": 1000
        },
        "outputId": "6da8660b-24aa-4e20-ee50-c7c80d369cbd"
      },
      "source": [
        "puzzle = np.asarray([[7, 0, 4], [5, 2, 6], [8, 3, 1]])\n",
        "\n",
        "# puzzle = np.arange(9).reshape(3, 3)\n",
        "# np.random.shuffle(puzzle) # For a random initial state\n",
        "\n",
        "goal = list(np.arange(1, 9))\n",
        "goal.append(0)\n",
        "goal = np.asarray(goal).reshape(3, 3)\n",
        "\n",
        "start = Node(puzzle, None, 0, '')\n",
        "RBFS(start, goal, float('inf'))"
      ],
      "execution_count": 12,
      "outputs": [
        {
          "output_type": "stream",
          "text": [
            "Solution found\n",
            "[[7 0 4]\n",
            " [5 2 6]\n",
            " [8 3 1]] \n",
            "\n",
            "[[7 2 4]\n",
            " [5 0 6]\n",
            " [8 3 1]] \n",
            "\n",
            "[[7 2 4]\n",
            " [5 3 6]\n",
            " [8 0 1]] \n",
            "\n",
            "[[7 2 4]\n",
            " [5 3 6]\n",
            " [8 1 0]] \n",
            "\n",
            "[[7 2 4]\n",
            " [5 3 0]\n",
            " [8 1 6]] \n",
            "\n",
            "[[7 2 4]\n",
            " [5 0 3]\n",
            " [8 1 6]] \n",
            "\n",
            "[[7 2 4]\n",
            " [0 5 3]\n",
            " [8 1 6]] \n",
            "\n",
            "[[0 2 4]\n",
            " [7 5 3]\n",
            " [8 1 6]] \n",
            "\n",
            "[[2 0 4]\n",
            " [7 5 3]\n",
            " [8 1 6]] \n",
            "\n",
            "[[2 4 0]\n",
            " [7 5 3]\n",
            " [8 1 6]] \n",
            "\n",
            "[[2 4 3]\n",
            " [7 5 0]\n",
            " [8 1 6]] \n",
            "\n",
            "[[2 4 3]\n",
            " [7 0 5]\n",
            " [8 1 6]] \n",
            "\n",
            "[[2 4 3]\n",
            " [7 1 5]\n",
            " [8 0 6]] \n",
            "\n",
            "[[2 4 3]\n",
            " [7 1 5]\n",
            " [0 8 6]] \n",
            "\n",
            "[[2 4 3]\n",
            " [0 1 5]\n",
            " [7 8 6]] \n",
            "\n",
            "[[2 4 3]\n",
            " [1 0 5]\n",
            " [7 8 6]] \n",
            "\n",
            "[[2 0 3]\n",
            " [1 4 5]\n",
            " [7 8 6]] \n",
            "\n",
            "[[0 2 3]\n",
            " [1 4 5]\n",
            " [7 8 6]] \n",
            "\n",
            "[[1 2 3]\n",
            " [0 4 5]\n",
            " [7 8 6]] \n",
            "\n",
            "[[1 2 3]\n",
            " [4 0 5]\n",
            " [7 8 6]] \n",
            "\n",
            "[[1 2 3]\n",
            " [4 5 0]\n",
            " [7 8 6]] \n",
            "\n",
            "[[1 2 3]\n",
            " [4 5 6]\n",
            " [7 8 0]] \n",
            "\n"
          ],
          "name": "stdout"
        },
        {
          "output_type": "execute_result",
          "data": {
            "text/plain": [
              "('cost:', 25)"
            ]
          },
          "metadata": {
            "tags": []
          },
          "execution_count": 12
        }
      ]
    }
  ]
}