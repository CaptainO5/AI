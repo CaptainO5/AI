{
  "nbformat": 4,
  "nbformat_minor": 0,
  "metadata": {
    "colab": {
      "name": "8Puzzle_RBFS.ipynb",
      "provenance": [],
      "collapsed_sections": []
    },
    "kernelspec": {
      "name": "python3",
      "display_name": "Python 3"
    }
  },
  "cells": [
    {
      "cell_type": "code",
      "metadata": {
        "id": "sZ_M0Vdj2trk",
        "colab_type": "code",
        "colab": {}
      },
      "source": [
        "import numpy as np\n",
        "import heapq as hq\n",
        "from itertools import count"
      ],
      "execution_count": 0,
      "outputs": []
    },
    {
      "cell_type": "markdown",
      "metadata": {
        "id": "8a7vqDGTeb8G",
        "colab_type": "text"
      },
      "source": [
        "Every Node object represent a node on the search tree.\n",
        "\n",
        "It stores\n",
        "1.   The state: position of all the tiles\n",
        "2.   A reference to the parent node\n",
        "3.   g: cost of reaching the node (considering cost of each edge in the tree as 1)\n",
        "4.   f-value and\n",
        "5.   a: represents the action applied on parent node to reach this node\n",
        "\n",
        "and has two funcitons:\n",
        "\n",
        "1.   h()\n",
        "2.   expand()"
      ]
    },
    {
      "cell_type": "code",
      "metadata": {
        "id": "VIXvN6mrCwKR",
        "colab_type": "code",
        "colab": {}
      },
      "source": [
        "class Node:\n",
        "  def __init__(self, state, parent, cost, action):\n",
        "    self.state = state\n",
        "    self.parent = parent\n",
        "    self.g = cost\n",
        "    self.f = self.g\n",
        "    self.a = action # Action applied to reach the state L, R, T or D\n",
        "\n",
        "  # Heuristic: sum of manhattan distances of each tile.. blank included\n",
        "  def h(self, goal):\n",
        "    sum = 0\n",
        "    for i in range(3):\n",
        "      for j in range(3):\n",
        "        m, n = np.where(goal == self.state[i][j]) # np.where(a == b) returns the array of positions in the array a, where the element is == b\n",
        "        m, n = int(m), int(n)\n",
        "        sum += abs(i - m) + abs(j - n)\n",
        "    return sum\n",
        "\n",
        "  # Moves the position of the blank and returns an array (a list) of Nodes obtained\n",
        "  def expand(self):\n",
        "    i, j = np.where(self.state == 0)\n",
        "    i, j = int(i), int(j) # Current position of the blank -> {0}\n",
        "    children = []\n",
        "\n",
        "    # Move the blank one step at a time\n",
        "    # Does not enter parent state again by checking 'Node.a' values\n",
        "    # Actions: D, R, L and T denote the movement of 0 in 4 directions\n",
        "\n",
        "    if self.a != 'D' and i - 1 >= 0:\n",
        "        s = self.state.copy()\n",
        "        s[i][j] = s[i - 1][j]\n",
        "        s[i - 1][j] = 0\n",
        "        children.append(Node(s, self, self.g + 1, 'T')) \n",
        "\n",
        "    if self.a != 'R' and j - 1 >= 0:\n",
        "        s = self.state.copy()\n",
        "        s[i][j] = s[i][j - 1]\n",
        "        s[i][j - 1] = 0\n",
        "        children.append(Node(s, self, self.g + 1, 'L'))\n",
        "    \n",
        "    if self.a != 'L' and j + 1 <= 2:\n",
        "        s = self.state.copy()\n",
        "        s[i][j] = s[i][j + 1]\n",
        "        s[i][j + 1] = 0\n",
        "        children.append(Node(s, self, self.g + 1, 'R'))\n",
        "\n",
        "    if self.a != 'T' and i + 1 <= 2:\n",
        "        s = self.state.copy()\n",
        "        s[i][j] = s[i + 1][j]\n",
        "        s[i + 1][j] = 0\n",
        "        children.append(Node(s, self, self.g + 1, 'D'))\n",
        "    return children"
      ],
      "execution_count": 0,
      "outputs": []
    },
    {
      "cell_type": "markdown",
      "metadata": {
        "id": "QN3p72SNhwNA",
        "colab_type": "text"
      },
      "source": [
        "Recursive function to print the path to solution"
      ]
    },
    {
      "cell_type": "code",
      "metadata": {
        "id": "HEIsd2AFhjRM",
        "colab_type": "code",
        "colab": {}
      },
      "source": [
        "def print_soln(sol):\n",
        "  if sol.parent == None:\n",
        "    print(sol.state, '\\n')\n",
        "    return\n",
        "  print_soln(sol.parent)\n",
        "  print(sol.state, \"\\n\")"
      ],
      "execution_count": 0,
      "outputs": []
    },
    {
      "cell_type": "markdown",
      "metadata": {
        "id": "1wxFJP5liBQe",
        "colab_type": "text"
      },
      "source": [
        "**Recursive Best First Search**\n",
        "\n",
        "Used a *heap* to store the Nodes in every depth-level, works as a priority queue\n"
      ]
    },
    {
      "cell_type": "code",
      "metadata": {
        "id": "aWfs4qg6CzGo",
        "colab_type": "code",
        "colab": {}
      },
      "source": [
        "def RBFS(node, goal, f_limit):\n",
        "  if np.allclose(goal, node.state): # np.allclose checks if both the arrays are identical\n",
        "    print(\"Solution found\")\n",
        "    print_soln(node)\n",
        "    return (\"cost:\", node.f)\n",
        "  \n",
        "  scsrs = node.expand()\n",
        "  if len(scsrs) == 0:\n",
        "    return ('failure', float('inf'))\n",
        "  pq = []\n",
        "  u = count() # Not very important count..\n",
        "\n",
        "  for s in scsrs:\n",
        "    s.f = max(s.h(goal) + s.g, node.f)\n",
        "    hq.heappush(pq, (s.f, next(u), s)) # Stores Nodes with priority based on the f-value, 'u' is an unique integer to break ties\n",
        "  \n",
        "  while True:\n",
        "    f_best, u1, best = hq.heappop(pq) # Node with least f-value\n",
        "    if best.f > f_limit:\n",
        "      return ('failure', best.f)\n",
        "\n",
        "    try:\n",
        "      f_alt, u2, alt = hq.heappop(pq) # Second least f-value\n",
        "      hq.heappush(pq, (f_alt, u2, alt))\n",
        "    except IndexError: # Error is raised if there isn't an alternative node.\n",
        "      f_alt = f_limit\n",
        "\n",
        "    result, best.f = RBFS(best, goal, min(f_limit, f_alt))\n",
        "    hq.heappush(pq, (best.f, u1, best)) # Updates the values as the recurion unwinds\n",
        "\n",
        "    if result != 'failure':\n",
        "      return (result, best.f)"
      ],
      "execution_count": 0,
      "outputs": []
    },
    {
      "cell_type": "markdown",
      "metadata": {
        "id": "oqfdEOfvn5OQ",
        "colab_type": "text"
      },
      "source": [
        "All the states are represented with a 3x3 array\n",
        "\n",
        "0 represents the blank tile\n",
        "\n",
        "Tile movements are implimented by swapping 0 with adjacent elements"
      ]
    },
    {
      "cell_type": "code",
      "metadata": {
        "id": "wJTG94JDO5jY",
        "colab_type": "code",
        "colab": {
          "base_uri": "https://localhost:8080/",
          "height": 1000
        },
        "outputId": "6da8660b-24aa-4e20-ee50-c7c80d369cbd"
      },
      "source": [
        "puzzle = np.asarray([[7, 0, 4], [5, 2, 6], [8, 3, 1]])\n",
        "\n",
        "goal = list(np.arange(1, 9))\n",
        "goal.append(0)\n",
        "goal = np.asarray(goal).reshape(3, 3)\n",
        "\n",
        "start = Node(puzzle, None, 0, '')\n",
        "RBFS(start, goal, float('inf'))"
      ],
      "execution_count": 12,
      "outputs": [
        {
          "output_type": "stream",
          "text": [
            "Solution found\n",
            "[[7 0 4]\n",
            " [5 2 6]\n",
            " [8 3 1]] \n",
            "\n",
            "[[7 2 4]\n",
            " [5 0 6]\n",
            " [8 3 1]] \n",
            "\n",
            "[[7 2 4]\n",
            " [5 3 6]\n",
            " [8 0 1]] \n",
            "\n",
            "[[7 2 4]\n",
            " [5 3 6]\n",
            " [8 1 0]] \n",
            "\n",
            "[[7 2 4]\n",
            " [5 3 0]\n",
            " [8 1 6]] \n",
            "\n",
            "[[7 2 4]\n",
            " [5 0 3]\n",
            " [8 1 6]] \n",
            "\n",
            "[[7 2 4]\n",
            " [0 5 3]\n",
            " [8 1 6]] \n",
            "\n",
            "[[0 2 4]\n",
            " [7 5 3]\n",
            " [8 1 6]] \n",
            "\n",
            "[[2 0 4]\n",
            " [7 5 3]\n",
            " [8 1 6]] \n",
            "\n",
            "[[2 4 0]\n",
            " [7 5 3]\n",
            " [8 1 6]] \n",
            "\n",
            "[[2 4 3]\n",
            " [7 5 0]\n",
            " [8 1 6]] \n",
            "\n",
            "[[2 4 3]\n",
            " [7 0 5]\n",
            " [8 1 6]] \n",
            "\n",
            "[[2 4 3]\n",
            " [7 1 5]\n",
            " [8 0 6]] \n",
            "\n",
            "[[2 4 3]\n",
            " [7 1 5]\n",
            " [0 8 6]] \n",
            "\n",
            "[[2 4 3]\n",
            " [0 1 5]\n",
            " [7 8 6]] \n",
            "\n",
            "[[2 4 3]\n",
            " [1 0 5]\n",
            " [7 8 6]] \n",
            "\n",
            "[[2 0 3]\n",
            " [1 4 5]\n",
            " [7 8 6]] \n",
            "\n",
            "[[0 2 3]\n",
            " [1 4 5]\n",
            " [7 8 6]] \n",
            "\n",
            "[[1 2 3]\n",
            " [0 4 5]\n",
            " [7 8 6]] \n",
            "\n",
            "[[1 2 3]\n",
            " [4 0 5]\n",
            " [7 8 6]] \n",
            "\n",
            "[[1 2 3]\n",
            " [4 5 0]\n",
            " [7 8 6]] \n",
            "\n",
            "[[1 2 3]\n",
            " [4 5 6]\n",
            " [7 8 0]] \n",
            "\n"
          ],
          "name": "stdout"
        },
        {
          "output_type": "execute_result",
          "data": {
            "text/plain": [
              "('cost:', 25)"
            ]
          },
          "metadata": {
            "tags": []
          },
          "execution_count": 12
        }
      ]
    }
  ]
}